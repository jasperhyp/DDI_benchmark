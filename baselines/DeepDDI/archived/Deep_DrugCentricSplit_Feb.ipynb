{
 "cells": [
  {
   "cell_type": "code",
   "execution_count": 1,
   "id": "d1ed7bd4-68b2-4b44-a805-652ffc968dc2",
   "metadata": {},
   "outputs": [
    {
     "name": "stderr",
     "output_type": "stream",
     "text": [
      "/home/nih492/.conda/envs/pygpu_nick/lib/python3.8/site-packages/tqdm/auto.py:22: TqdmWarning: IProgress not found. Please update jupyter and ipywidgets. See https://ipywidgets.readthedocs.io/en/stable/user_install.html\n",
      "  from .autonotebook import tqdm as notebook_tqdm\n",
      "/tmp/ipykernel_140401/2565493604.py:24: SettingWithCopyWarning: \n",
      "A value is trying to be set on a copy of a slice from a DataFrame.\n",
      "Try using .loc[row_indexer,col_indexer] = value instead\n",
      "\n",
      "See the caveats in the documentation: https://pandas.pydata.org/pandas-docs/stable/user_guide/indexing.html#returning-a-view-versus-a-copy\n",
      "  train_drugs_df['view_str'] = 1\n",
      "/tmp/ipykernel_140401/2565493604.py:26: SettingWithCopyWarning: \n",
      "A value is trying to be set on a copy of a slice from a DataFrame.\n",
      "Try using .loc[row_indexer,col_indexer] = value instead\n",
      "\n",
      "See the caveats in the documentation: https://pandas.pydata.org/pandas-docs/stable/user_guide/indexing.html#returning-a-view-versus-a-copy\n",
      "  val_drugs_df['view_str'] = 1\n"
     ]
    }
   ],
   "source": [
    "import os, sys\n",
    "from itertools import product\n",
    "import pandas as pd\n",
    "import numpy as np\n",
    "from sklearn.model_selection import train_test_split\n",
    "\n",
    "import torch\n",
    "from torchdrug import core, models, tasks, utils\n",
    "from torch_geometric.utils import is_undirected, to_undirected\n",
    "%matplotlib inline\n",
    "\n",
    "SEED = 43\n",
    "NUM_BASIS_DRUGS = 6216\n",
    "np.random.seed(SEED)\n",
    "\n",
    "path_base = \"/n/data1/hms/dbmi/zitnik/lab/users/yeh803/DDI/processed_data/PrimeKG-DDI/drug_centric_easy_split/\"\n",
    "pca_lookup = pd.read_csv(path_base+f\"/deepDDI/lookup_table_of_pca_{NUM_BASIS_DRUGS}_seed{SEED}.csv\", index_col=0).drop(columns=['node_id'])\n",
    "drugs = pd.read_csv(path_base+\"/kgddi_drug_split.csv\", index_col=0)\n",
    "train_edgelist = torch.load(path_base+'/train_edgelist.pt')\n",
    "val_between_edgelist = torch.load(path_base+'/val_between_edgelist.pt')\n",
    "val_within_edgelist = torch.load(path_base+'/val_within_edgelist.pt')\n",
    "\n",
    "train_drugs_df = drugs[drugs.split=='train']\n",
    "train_drugs_df['view_str'] = 1\n",
    "val_drugs_df = drugs[drugs.split=='val']\n",
    "val_drugs_df['view_str'] = 1"
   ]
  },
  {
   "cell_type": "markdown",
   "id": "b9e38824",
   "metadata": {},
   "source": [
    "### Constructing the tools for on-the-fly training\n",
    "\n",
    "- Inputs:\n",
    "    - train_edgelist\n",
    "        - edgelist corresponding to the drug_index in train_drugs_df\n",
    "    - drugs\n",
    "        - a dataframe containing the drug_id, should have 3367 rows corresponding to the drugs we have DDIs for,\n",
    "        however, we have in total ~6800 drug available in total drugs (including the pretraining drugs)\n",
    "\n",
    "\n",
    "- adjacency matrix for the train_edgelist\n",
    "- Drug_idx-to-PCA lookup table"
   ]
  },
  {
   "cell_type": "code",
   "execution_count": 94,
   "id": "016e1947",
   "metadata": {},
   "outputs": [
    {
     "ename": "ValueError",
     "evalue": "Val or test negative sampling on the fly not implemented yet",
     "output_type": "error",
     "traceback": [
      "\u001b[0;31m---------------------------------------------------------------------------\u001b[0m",
      "\u001b[0;31mValueError\u001b[0m                                Traceback (most recent call last)",
      "\u001b[1;32m/home/nih492/NovelDDI/baselines/deepDDI/drugcentric_preprocess.ipynb Cell 4\u001b[0m in \u001b[0;36m<cell line: 62>\u001b[0;34m()\u001b[0m\n\u001b[1;32m     <a href='vscode-notebook-cell://127.0.0.1:51243/home/nih492/NovelDDI/baselines/deepDDI/drugcentric_preprocess.ipynb#W3sdnNjb2RlLXJlbW90ZQ%3D%3D?line=57'>58</a>\u001b[0m     \u001b[39melse\u001b[39;00m:\n\u001b[1;32m     <a href='vscode-notebook-cell://127.0.0.1:51243/home/nih492/NovelDDI/baselines/deepDDI/drugcentric_preprocess.ipynb#W3sdnNjb2RlLXJlbW90ZQ%3D%3D?line=58'>59</a>\u001b[0m         \u001b[39mraise\u001b[39;00m \u001b[39mValueError\u001b[39;00m(\u001b[39m'\u001b[39m\u001b[39mPlease input, val, test, or train\u001b[39m\u001b[39m'\u001b[39m)\n\u001b[0;32m---> <a href='vscode-notebook-cell://127.0.0.1:51243/home/nih492/NovelDDI/baselines/deepDDI/drugcentric_preprocess.ipynb#W3sdnNjb2RlLXJlbW90ZQ%3D%3D?line=61'>62</a>\u001b[0m x, labels \u001b[39m=\u001b[39m get_batch_embeddings(batch_ddis, pca_lookup, data_mode \u001b[39m=\u001b[39;49m \u001b[39m\"\u001b[39;49m\u001b[39mtest\u001b[39;49m\u001b[39m\"\u001b[39;49m)\n\u001b[1;32m     <a href='vscode-notebook-cell://127.0.0.1:51243/home/nih492/NovelDDI/baselines/deepDDI/drugcentric_preprocess.ipynb#W3sdnNjb2RlLXJlbW90ZQ%3D%3D?line=62'>63</a>\u001b[0m x\u001b[39m.\u001b[39mshape\n",
      "\u001b[1;32m/home/nih492/NovelDDI/baselines/deepDDI/drugcentric_preprocess.ipynb Cell 4\u001b[0m in \u001b[0;36mget_batch_embeddings\u001b[0;34m(batch_ddis, pca_lookup, data_mode)\u001b[0m\n\u001b[1;32m     <a href='vscode-notebook-cell://127.0.0.1:51243/home/nih492/NovelDDI/baselines/deepDDI/drugcentric_preprocess.ipynb#W3sdnNjb2RlLXJlbW90ZQ%3D%3D?line=52'>53</a>\u001b[0m     \u001b[39mreturn\u001b[39;00m (batch_ddis, labels)\n\u001b[1;32m     <a href='vscode-notebook-cell://127.0.0.1:51243/home/nih492/NovelDDI/baselines/deepDDI/drugcentric_preprocess.ipynb#W3sdnNjb2RlLXJlbW90ZQ%3D%3D?line=54'>55</a>\u001b[0m \u001b[39melif\u001b[39;00m data_mode \u001b[39m==\u001b[39m \u001b[39m\"\u001b[39m\u001b[39mval\u001b[39m\u001b[39m\"\u001b[39m \u001b[39mor\u001b[39;00m data_mode \u001b[39m==\u001b[39m \u001b[39m\"\u001b[39m\u001b[39mtest\u001b[39m\u001b[39m\"\u001b[39m:\n\u001b[0;32m---> <a href='vscode-notebook-cell://127.0.0.1:51243/home/nih492/NovelDDI/baselines/deepDDI/drugcentric_preprocess.ipynb#W3sdnNjb2RlLXJlbW90ZQ%3D%3D?line=55'>56</a>\u001b[0m     \u001b[39mraise\u001b[39;00m \u001b[39mValueError\u001b[39;00m(\u001b[39m'\u001b[39m\u001b[39mVal or test negative sampling on the fly not implemented yet\u001b[39m\u001b[39m'\u001b[39m)\n\u001b[1;32m     <a href='vscode-notebook-cell://127.0.0.1:51243/home/nih492/NovelDDI/baselines/deepDDI/drugcentric_preprocess.ipynb#W3sdnNjb2RlLXJlbW90ZQ%3D%3D?line=57'>58</a>\u001b[0m \u001b[39melse\u001b[39;00m:\n\u001b[1;32m     <a href='vscode-notebook-cell://127.0.0.1:51243/home/nih492/NovelDDI/baselines/deepDDI/drugcentric_preprocess.ipynb#W3sdnNjb2RlLXJlbW90ZQ%3D%3D?line=58'>59</a>\u001b[0m     \u001b[39mraise\u001b[39;00m \u001b[39mValueError\u001b[39;00m(\u001b[39m'\u001b[39m\u001b[39mPlease input, val, test, or train\u001b[39m\u001b[39m'\u001b[39m)\n",
      "\u001b[0;31mValueError\u001b[0m: Val or test negative sampling on the fly not implemented yet"
     ]
    }
   ],
   "source": [
    "# ## No Need to run\n",
    "\n",
    "# from torch_geometric.utils import is_undirected, to_undirected, to_dense_adj, k_hop_subgraph, coalesce, structured_negative_sampling\n",
    "# from torch.utils.data import DataLoader\n",
    "# from torch_geometric.seed import seed_everything\n",
    "\n",
    "# seed_everything(0)\n",
    "\n",
    "# loader = DataLoader(train_edgelist, batch_size=5, shuffle=True)\n",
    "\n",
    "# for batch_ddis in loader:\n",
    "#     break\n",
    "\n",
    "# def get_batch_embeddings(batch_ddis, pca_lookup, data_mode = \"train\"):\n",
    "\n",
    "#     \"\"\"Takes in the batch of ddis :torch.tensor: with shape of (num_edges, 2) and lookup and outputs the \n",
    "#     reformated data + appropriate negative sampling. For example, by inputting edge (A,B), it first adds (B,A)\n",
    "#     as an additional positive edge, then adds (A, 1), (1,A), (B,2), (2,B) where 1 and 2 are negative edges\n",
    "#     sampled within the batch. This will have to be adjusted for evaluation mode. \n",
    "\n",
    "#     Args:\n",
    "#         batch_ddis (TorchTensor): The edge indices.\n",
    "#         pca_lookup (pandas dataframe): pandas dataframe where the indices are set by the drug. \n",
    "\n",
    "#     :rtype: (Tensor, Tensor, Tensor, Tensor)\n",
    "#     \"\"\"\n",
    "\n",
    "#     if data_mode == \"train\":\n",
    "\n",
    "#         undir_pos_ddis = to_undirected(batch_ddis.T)  ## make undirected first, (A,B), (B,A)\n",
    "#         heads, _, negatives = structured_negative_sampling(undir_pos_ddis) # because we set this to be undirected, we only need heads + negatives\n",
    "#         neg_samps = torch.cat([heads.view(1, -1), negatives.view(1, -1)], dim = 0)\n",
    "#         undir_neg_ddis = to_undirected(neg_samps) # set the negative samples to be undirected, (A,1), (1,A), (B,2), (2, B)\n",
    "\n",
    "#         undir_pos_ddis = np.array(undir_pos_ddis) \n",
    "#         undir_neg_ddis = np.array(undir_neg_ddis)\n",
    "#         lookup = pca_lookup.T\n",
    "\n",
    "#         head_pos = lookup[undir_pos_ddis[0]].values.T \n",
    "#         tail_pos = lookup[undir_pos_ddis[1]].values.T\n",
    "#         batch_pos = np.concatenate([head_pos, tail_pos], axis = 1)\n",
    "#         batch_pos = torch.tensor(batch_pos)\n",
    "#         pos_labels = torch.ones(batch_pos.shape[0]) \n",
    "\n",
    "#         head_neg = lookup[undir_neg_ddis[0]].values.T\n",
    "#         tail_neg = lookup[undir_neg_ddis[1]].values.T\n",
    "#         batch_neg = np.concatenate([head_neg, tail_neg], axis = 1)\n",
    "#         batch_neg = torch.tensor(batch_neg)\n",
    "#         neg_labels = torch.zeros(batch_neg.shape[0])\n",
    "\n",
    "#         batch_ddis = torch.cat([batch_pos, batch_neg], dim = 0)\n",
    "#         labels = torch.cat([pos_labels, neg_labels], dim = 0)\n",
    "\n",
    "#         return (batch_ddis, labels)\n",
    "\n",
    "#     elif data_mode == \"val\" or data_mode == \"test\":\n",
    "#         raise ValueError('Val or test negative sampling on the fly not implemented yet')\n",
    "\n",
    "#     else:\n",
    "#         raise ValueError('Please input, val, test, or train')\n",
    "\n",
    "# x, labels = get_batch_embeddings(batch_ddis, pca_lookup, data_mode = \"test\")\n",
    "\n"
   ]
  },
  {
   "cell_type": "markdown",
   "id": "ac6d4605",
   "metadata": {},
   "source": [
    "### Validation and testing\n",
    "\n",
    "- Yepeng has already created some useful splits that I will use directly.\n"
   ]
  },
  {
   "cell_type": "code",
   "execution_count": 2,
   "metadata": {},
   "outputs": [
    {
     "data": {
      "text/plain": [
       "torch.Size([544256, 2])"
      ]
     },
     "execution_count": 2,
     "metadata": {},
     "output_type": "execute_result"
    }
   ],
   "source": [
    "path_base = \"/n/data1/hms/dbmi/zitnik/lab/users/yeh803/DDI/processed_data/PrimeKG-DDI/drug_centric_easy_split/\"\n",
    "\n",
    "val_between_edgelist = torch.load(path_base+'/val_between_edgelist.pt')\n",
    "val_within_edgelist = torch.load(path_base+'/val_within_edgelist.pt')\n",
    "negative_val_between_edgelist = torch.load(path_base+'/negative_val_between_edgelist.pt')\n",
    "negative_val_within_edgelist = torch.load(path_base+'/negative_val_within_edgelist.pt')\n",
    "\n",
    "negative_val_between_edgelist.shape"
   ]
  },
  {
   "cell_type": "code",
   "execution_count": 26,
   "id": "7d010a25",
   "metadata": {},
   "outputs": [],
   "source": [
    "## Direct conversion and save as a pytorch objects\n",
    "lookup = pca_lookup.T\n",
    "\n",
    "##\n",
    "# val between\n",
    "##\n",
    "head_pos = lookup[val_between_edgelist[:, 0]].values.T \n",
    "tail_pos = lookup[val_between_edgelist[:, 1]].values.T\n",
    "val_btn_pos = np.concatenate([head_pos, tail_pos], axis = 1)\n",
    "val_btn_pos = torch.tensor(val_btn_pos)\n",
    "val_btn_labels_pos = torch.ones(val_btn_pos.shape[0]) \n",
    "\n",
    "head_neg = lookup[negative_val_between_edgelist[:, 0]].values.T \n",
    "tail_neg = lookup[negative_val_between_edgelist[:, 1]].values.T\n",
    "val_btn_neg = np.concatenate([head_neg, tail_neg], axis = 1)\n",
    "val_btn_neg = torch.tensor(val_btn_neg)\n",
    "val_btn_labels_neg = torch.zeros(val_btn_neg.shape[0]) \n",
    "\n",
    "val_btn_ddis = torch.cat([val_btn_pos, val_btn_neg], dim = 0)\n",
    "val_btn_labels = torch.cat([val_btn_labels_pos, val_btn_labels_neg], dim = 0)\n",
    "\n",
    "torch.save(val_btn_ddis, path_base + '/deepDDI/val_btn_deepddi.pt')\n",
    "torch.save(val_btn_labels, path_base + '/deepDDI/val_btn_deepddi_labels.pt')"
   ]
  },
  {
   "cell_type": "code",
   "execution_count": 27,
   "id": "37193882",
   "metadata": {},
   "outputs": [
    {
     "ename": "",
     "evalue": "",
     "output_type": "error",
     "traceback": [
      "\u001b[1;31mThe Kernel crashed while executing code in the the current cell or a previous cell. Please review the code in the cell(s) to identify a possible cause of the failure. Click <a href='https://aka.ms/vscodeJupyterKernelCrash'>here</a> for more info. View Jupyter <a href='command:jupyter.viewOutput'>log</a> for further details."
     ]
    }
   ],
   "source": [
    "##\n",
    "# val within\n",
    "##\n",
    "\n",
    "val_within_edgelist\n",
    "negative_val_within_edgelist\n",
    "\n",
    "head_pos = lookup[val_within_edgelist[:, 0]].values.T \n",
    "tail_pos = lookup[val_within_edgelist[:, 1]].values.T\n",
    "val_wtn_pos = np.concatenate([head_pos, tail_pos], axis = 1)\n",
    "val_wtn_pos = torch.tensor(val_wtn_pos) \n",
    "val_wtn_labels_pos = torch.ones(val_wtn_pos.shape[0]) # positive labels\n",
    "\n",
    "head_neg = lookup[negative_val_within_edgelist[:, 0]].values.T \n",
    "tail_neg = lookup[negative_val_within_edgelist[:, 1]].values.T\n",
    "val_wtn_neg = np.concatenate([head_neg, tail_neg], axis = 1)\n",
    "val_wtn_neg = torch.tensor(val_wtn_neg)\n",
    "val_wtn_labels_neg = torch.zeros(val_wtn_neg.shape[0]) # negative labels\n",
    "\n",
    "val_wtn_ddis = torch.cat([val_wtn_pos, val_wtn_neg], dim = 0)\n",
    "val_wtn_labels = torch.cat([val_wtn_labels_pos, val_wtn_labels_neg], dim = 0)\n",
    "\n",
    "# torch.save(val_wtn_ddis, path_base + f'/deepDDI/val_wtn_deepddi_{NUM_BASIS_DRUGS}_seed{SEED}.pt')\n",
    "# torch.save(val_wtn_labels, path_base + f'/deepDDI/val_wtn_deepddi_labels_{NUM_BASIS_DRUGS}_seed{SEED}.pt')\n",
    "\n",
    "torch.save(val_wtn_ddis, path_base + f'/deepDDI/val_wtn_deepddi.pt')\n",
    "torch.save(val_wtn_labels, path_base + f'/deepDDI/val_wtn_deepddi_labels.pt')"
   ]
  },
  {
   "cell_type": "code",
   "execution_count": null,
   "id": "82a8843e",
   "metadata": {},
   "outputs": [],
   "source": [
    "val_wtn_ddis.shape"
   ]
  },
  {
   "cell_type": "markdown",
   "id": "561f46b4",
   "metadata": {},
   "source": [
    "### and the train split for evaluation metric purposes, **not** for training"
   ]
  },
  {
   "cell_type": "code",
   "execution_count": 25,
   "id": "cc86ee1a",
   "metadata": {},
   "outputs": [],
   "source": [
    "train_edgelist = torch.load(path_base+'/train_edgelist.pt')\n",
    "negative_train_edgelist = torch.load(path_base+'/negative_train_edgelist.pt')\n",
    "\n",
    "\n",
    "head_pos = lookup[train_edgelist[:, 0]].values.T \n",
    "tail_pos = lookup[train_edgelist[:, 1]].values.T\n",
    "train_pos = np.concatenate([head_pos, tail_pos], axis = 1)\n",
    "train_pos = torch.tensor(train_pos) \n",
    "train_labels_pos = torch.ones(train_pos.shape[0]) # positive labels\n",
    "\n",
    "head_neg = lookup[negative_train_edgelist[:, 0]].values.T \n",
    "tail_neg = lookup[negative_train_edgelist[:, 1]].values.T\n",
    "train_neg = np.concatenate([head_neg, tail_neg], axis = 1)\n",
    "train_neg = torch.tensor(train_neg)\n",
    "train_labels_neg = torch.zeros(train_neg.shape[0]) # negative labels\n",
    "\n",
    "train_ddis = torch.cat([train_pos, train_neg], dim = 0)\n",
    "train_labels = torch.cat([train_labels_pos, train_labels_neg], dim = 0)\n",
    "\n",
    "torch.save(train_ddis, path_base + f'/deepDDI/train_EVAL_deepddi_{NUM_BASIS_DRUGS}_seed{SEED}.pt')\n",
    "torch.save(train_labels, path_base + f'/deepDDI/train_EVAL_deepddi_labels_{NUM_BASIS_DRUGS}_seed{SEED}.pt')"
   ]
  },
  {
   "cell_type": "code",
   "execution_count": 3,
   "id": "2ce6085d",
   "metadata": {},
   "outputs": [],
   "source": [
    "\n",
    "# Creating an adjacency matrix for the trainlist\n",
    "\n",
    "# num_ddi_drugs = len(drugs)\n",
    "# adj_mat = torch.zeros(num_ddi_drugs, num_ddi_drugs)\n",
    "\n",
    "# adj_mat[train_edgelist.T[0], train_edgelist.T[1]] = 1 # populating the train entities\n",
    "# adj_mat.fill_diagonal_(-1)\n",
    "\n",
    "# torch.sum(adj_mat)\n",
    "# temp[val_edgelist.T[0], val_edgelist.T[1]] = -1\n",
    "\n",
    "# train_idx = np.array(train_drugs_df.index)\n",
    "\n",
    "# shuffle the train_idx and batch grab a set\n",
    "# batch_idx = train_idx[100:110]\n",
    "\n",
    "## grab some DDIs from the shuffled DDI list\n",
    "\n",
    "\n",
    "# idx = torch.randperm(train_edgelist.shape[0]) ## temporarily shuffling\n",
    "# temp = train_edgelist[idx]\n",
    "\n",
    "# batch_ddis = temp[:10]\n",
    "# batch_idx = batch_ddis.unique()\n",
    "\n",
    "# adj_mat[batch_idx]\n",
    "\n",
    "## quick check on the train_edgelist\n",
    "# len(train_edgelist.T[0].unique()) == len(train_edgelist.T[1].unique()) # undirected edgelist\n",
    "# is_undirected(train_edgelist.T)\n",
    "\n",
    "# undir_batch_ddis = to_undirected(batch_ddis.T)\n",
    "\n",
    "# structured_negative_sampling(undir_batch_ddis)\n",
    "\n",
    "# batch_ddis\n"
   ]
  },
  {
   "cell_type": "markdown",
   "id": "96745362",
   "metadata": {},
   "source": [
    "### Without negative sampling, instead uses all possible samples with Val and Test masked out\n",
    "\n",
    "In this case, we use all possible negative samples to benchmark with current results of NovelDDI."
   ]
  },
  {
   "cell_type": "code",
   "execution_count": 2,
   "id": "abea73ea-eff6-4683-a014-530f7ae14f19",
   "metadata": {},
   "outputs": [],
   "source": [
    "##\n",
    "# Train\n",
    "##\n",
    "\n",
    "path_base = \"/n/data1/hms/dbmi/zitnik/lab/users/yeh803/DDI/processed_data/PrimeKG-DDI/drug_centric_easy_split/\"\n",
    "val_between_edgelist = torch.load(path_base+'/val_between_edgelist.pt')\n",
    "val_within_edgelist = torch.load(path_base+'/val_within_edgelist.pt')\n",
    "test_between_edgelist = torch.load(path_base+'/test_between_edgelist.pt')\n",
    "test_within_edgelist = torch.load(path_base+'/test_within_edgelist.pt')\n",
    "\n",
    "\n",
    "assert is_undirected(train_edgelist.T)\n",
    "all_train_pairs = to_undirected(torch.combinations(torch.unique(train_edgelist)).T).T\n",
    "\n",
    "# Removing row duplicates should be easier using pandas\n",
    "all_train_df = pd.DataFrame(all_train_pairs)\n",
    "all_train_df['label'] = 0\n",
    "pos_train_df = pd.DataFrame(train_edgelist)\n",
    "pos_train_df['label'] = 1\n",
    "\n",
    "val_between_train_df = pd.DataFrame(val_between_edgelist)\n",
    "val_between_train_df['label'] = -1\n",
    "val_within_train_df = pd.DataFrame(val_within_edgelist)\n",
    "val_within_train_df['label'] = -1\n",
    "\n",
    "test_between_train_df = pd.DataFrame(test_between_edgelist)\n",
    "test_between_train_df['label'] = -1\n",
    "test_within_train_df = pd.DataFrame(test_within_edgelist)\n",
    "test_within_train_df['label'] = -1\n",
    "\n",
    "all_train_df = pd.concat([pos_train_df, \n",
    "                            val_between_train_df, \n",
    "                            val_within_train_df,\n",
    "                            test_between_train_df,\n",
    "                            test_within_train_df,\n",
    "                            all_train_df]).reset_index().drop(columns=['index']).drop_duplicates(subset=[0, 1], keep='first')\n",
    "\n",
    "\n",
    "## remove all the validation + test edges so that the negative edges are true negative edges\n",
    "all_train_df = all_train_df[all_train_df[\"label\"] != -1]\n",
    "\n",
    "del(val_between_train_df, val_within_train_df, test_between_train_df, test_within_train_df)\n",
    "\n",
    "del(val_between_edgelist, val_within_edgelist, test_between_edgelist, test_within_edgelist)\n"
   ]
  },
  {
   "cell_type": "code",
   "execution_count": 3,
   "id": "b2ebbf0a",
   "metadata": {},
   "outputs": [
    {
     "name": "stdout",
     "output_type": "stream",
     "text": [
      "torch.Size([7620360, 101])\n"
     ]
    }
   ],
   "source": [
    "# neg_train_df = pd.concat([pos_train_df, all_train_df]).reset_index().drop(columns=['index']).drop_duplicates(subset=[0, 1], keep=False).reindex(np.arange(all_train_df.shape[0])+pos_train_df.shape[0]).dropna()\n",
    "\n",
    "left = pca_lookup.loc[all_train_df.loc[:, 0]].values\n",
    "right = pca_lookup.loc[all_train_df.loc[:, 1]].values\n",
    "label = all_train_df.loc[:, 'label'].values\n",
    "train = torch.from_numpy(np.concatenate([left, right, np.expand_dims(label, axis=1)], axis = 1))  # each row = [pair feature, label]\n",
    "print(train.shape)"
   ]
  },
  {
   "cell_type": "code",
   "execution_count": 4,
   "id": "15eb3f5e",
   "metadata": {},
   "outputs": [],
   "source": [
    "train_ddis_no_neg = torch.from_numpy(np.concatenate([left, right], axis = 1))  # each row = [pair feature, label]\n",
    "train_labels_no_neg = torch.from_numpy(label).reshape(-1, 1)\n",
    "\n",
    "#  f'deepDDI/train_NO_NEGSAMP_{NUM_BASIS_DRUGS}_seed{SEED}.pt'\n",
    "\n",
    "## is crashing rn when i save to the folder not sure whats happening\n",
    "# torch.save(train_ddis_no_neg, f\"train_NO_NEGSAMP_{NUM_BASIS_DRUGS}_seed{SEED}.pt\")\n",
    "# torch.save(train_labels_no_neg, f'train_NO_NEGSAMP_labels_{NUM_BASIS_DRUGS}_seed{SEED}.pt')\n",
    "\n",
    "torch.save(train_ddis_no_neg, path_base + f'deepDDI/train_NO_NEGSAMP_{NUM_BASIS_DRUGS}_seed{SEED}.pt')\n",
    "torch.save(train_labels_no_neg, path_base + f'deepDDI/train_NO_NEGSAMP_labels_{NUM_BASIS_DRUGS}_seed{SEED}.pt')"
   ]
  },
  {
   "cell_type": "code",
   "execution_count": 17,
   "id": "5fda7eca",
   "metadata": {},
   "outputs": [],
   "source": []
  },
  {
   "cell_type": "code",
   "execution_count": null,
   "id": "da56157d",
   "metadata": {},
   "outputs": [],
   "source": []
  },
  {
   "cell_type": "markdown",
   "id": "07c1aa52",
   "metadata": {},
   "source": [
    "# Old Code"
   ]
  },
  {
   "cell_type": "code",
   "execution_count": 20,
   "id": "2820ca25",
   "metadata": {},
   "outputs": [
    {
     "name": "stdout",
     "output_type": "stream",
     "text": [
      "torch.Size([2017600, 101])\n",
      "torch.Size([149382, 101])\n"
     ]
    }
   ],
   "source": [
    "##\n",
    "# Downloading\n",
    "##\n",
    "\n",
    "path_base = \"/n/data1/hms/dbmi/zitnik/lab/users/yeh803/DDI/processed_data/PrimeKG-DDI/drug_centric_easy_split/\"\n",
    "\n",
    "val_between_edgelist = torch.load(path_base+'/val_between_edgelist.pt')\n",
    "val_within_edgelist = torch.load(path_base+'/val_within_edgelist.pt')\n",
    "negative_val_between_edgelist = torch.load(path_base+'/negative_val_between_edgelist.pt')\n",
    "negative_val_within_edgelist = torch.load(path_base+'/negative_val_within_edgelist.pt')\n",
    "\n",
    "negative_val_between_edgelist.shape\n",
    "\n",
    "\n",
    "\n",
    "##\n",
    "# Val between\n",
    "##\n",
    "assert set(val_between_edgelist[:, 1]) & set(val_between_edgelist[:, 0]) == set()  # Unlike train_edgelist, our val_between_edgelist is directed because we wanted to ensure evaluation with desired modalities. Here in DeepDDI however, we can make it back to undirected.\n",
    "val_between_edgelist_undirected = to_undirected(val_between_edgelist.T).T  # to undirected\n",
    "all_val_between_pairs = to_undirected(torch.tensor(list(product(torch.unique(val_between_edgelist[:, 0]), torch.unique(val_between_edgelist[:, 1])))).T).T  # to undirected\n",
    "\n",
    "pos_val_between_df = pd.DataFrame(val_between_edgelist_undirected)\n",
    "pos_val_between_df['label'] = 1\n",
    "all_val_between_df = pd.DataFrame(all_val_between_pairs)\n",
    "all_val_between_df['label'] = 0\n",
    "all_val_between_df = pd.concat([pos_val_between_df, all_val_between_df]).reset_index().drop(columns=['index']).drop_duplicates(subset=[0, 1], keep='first')\n",
    "\n",
    "left = pca_lookup.loc[all_val_between_df.loc[:, 0]].values\n",
    "right = pca_lookup.loc[all_val_between_df.loc[:, 1]].values\n",
    "label = all_val_between_df.loc[:, 'label'].values\n",
    "val_between = torch.from_numpy(np.concatenate([left, right, np.expand_dims(label, axis=1)], axis = 1))  # each row = [pair feature, label]\n",
    "print(val_between.shape)\n",
    "\n",
    "\n",
    "##\n",
    "# Val Within\n",
    "##\n",
    "assert is_undirected(val_within_edgelist.T)\n",
    "all_val_within_pairs = to_undirected(torch.combinations(torch.unique(val_within_edgelist)).T).T\n",
    "\n",
    "# Removing row duplicates should be easier using pandas\n",
    "pos_val_within_df = pd.DataFrame(val_within_edgelist)\n",
    "pos_val_within_df['label'] = 1\n",
    "all_val_within_df = pd.DataFrame(all_val_within_pairs)\n",
    "all_val_within_df['label'] = 0\n",
    "all_val_within_df = pd.concat([pos_val_within_df, all_val_within_df]).reset_index().drop(columns=['index']).drop_duplicates(subset=[0, 1], keep='first')\n",
    "\n",
    "left = pca_lookup.loc[all_val_within_df.loc[:, 0]].values\n",
    "right = pca_lookup.loc[all_val_within_df.loc[:, 1]].values\n",
    "label = all_val_within_df.loc[:, 'label'].values\n",
    "val_within = torch.from_numpy(np.concatenate([left, right, np.expand_dims(label, axis=1)], axis = 1))  # each row = [pair feature, label]\n",
    "print(val_within.shape)\n"
   ]
  },
  {
   "cell_type": "code",
   "execution_count": 28,
   "id": "0956a095",
   "metadata": {},
   "outputs": [
    {
     "data": {
      "text/plain": [
       "(3810180, 1008800, 272128)"
      ]
     },
     "execution_count": 28,
     "metadata": {},
     "output_type": "execute_result"
    }
   ],
   "source": [
    "torch.unique(train_edgelist).shape[0] * (torch.unique(train_edgelist).shape[0] - 1) // 2, torch.unique(val_between_edgelist[:, 0]).shape[0] * torch.unique(val_between_edgelist[:, 1]).shape[0], val_between_edgelist.shape[0]"
   ]
  },
  {
   "cell_type": "code",
   "execution_count": 34,
   "id": "b80ea4c1-c8ac-446d-a9aa-8ff6b2742039",
   "metadata": {},
   "outputs": [],
   "source": [
    "\"\"\"\n",
    "NOTE:\n",
    "first 50 is the PCA for drug 1, second 50 is PCA for drug 2, \n",
    "then the last variable is 1 or 0 based on positive or negative\n",
    "\"\"\"\n",
    "\n",
    "save_path = path_base + \"/deepDDI/\"\n",
    "torch.save(train, os.path.join(save_path, \"train.pt\"))\n",
    "torch.save(val_between, os.path.join(save_path, \"val_between.pt\"))\n",
    "torch.save(val_within, os.path.join(save_path, \"val_within.pt\"))\n"
   ]
  },
  {
   "cell_type": "code",
   "execution_count": null,
   "id": "004529f6",
   "metadata": {},
   "outputs": [],
   "source": []
  },
  {
   "cell_type": "markdown",
   "id": "37aa9db0",
   "metadata": {},
   "source": [
    "### With negative sampling\n",
    "\n",
    "Same as in Zitnik et al. (2018), for each positive $(d_i, d_j)$, sample one negative edge $(d_i, d_k)$. Assuming undirected graph (to align with this, we also need to remove the masking and double-count, say, structure-structure pairs), this wouldn't create a bias in negative sampling."
   ]
  },
  {
   "cell_type": "markdown",
   "id": "9f4f174a",
   "metadata": {},
   "source": [
    "For now, this will be the simplest version of setting up just negative sampling via structured_negative_sampling"
   ]
  },
  {
   "cell_type": "code",
   "execution_count": 7,
   "id": "a2a6425a",
   "metadata": {},
   "outputs": [
    {
     "ename": "AttributeError",
     "evalue": "'NoneType' object has no attribute 'max'",
     "output_type": "error",
     "traceback": [
      "\u001b[0;31m---------------------------------------------------------------------------\u001b[0m",
      "\u001b[0;31mAttributeError\u001b[0m                            Traceback (most recent call last)",
      "\u001b[1;32m/home/nih492/NovelDDI/baselines/deepDDI/drugcentric_preprocess.ipynb Cell 25\u001b[0m in \u001b[0;36m<cell line: 4>\u001b[0;34m()\u001b[0m\n\u001b[1;32m      <a href='vscode-notebook-cell://127.0.0.1:51254/home/nih492/NovelDDI/baselines/deepDDI/drugcentric_preprocess.ipynb#X46sdnNjb2RlLXJlbW90ZQ%3D%3D?line=0'>1</a>\u001b[0m \u001b[39mfrom\u001b[39;00m \u001b[39mutils\u001b[39;00m \u001b[39mimport\u001b[39;00m structured_negative_sampling_binary\n\u001b[1;32m      <a href='vscode-notebook-cell://127.0.0.1:51254/home/nih492/NovelDDI/baselines/deepDDI/drugcentric_preprocess.ipynb#X46sdnNjb2RlLXJlbW90ZQ%3D%3D?line=2'>3</a>\u001b[0m valid_indices \u001b[39m=\u001b[39m torch\u001b[39m.\u001b[39munique(pos_ddis)\n\u001b[0;32m----> <a href='vscode-notebook-cell://127.0.0.1:51254/home/nih492/NovelDDI/baselines/deepDDI/drugcentric_preprocess.ipynb#X46sdnNjb2RlLXJlbW90ZQ%3D%3D?line=3'>4</a>\u001b[0m a \u001b[39m=\u001b[39m structured_negative_sampling_binary(pos_ddis,valid_indices)\n\u001b[1;32m      <a href='vscode-notebook-cell://127.0.0.1:51254/home/nih492/NovelDDI/baselines/deepDDI/drugcentric_preprocess.ipynb#X46sdnNjb2RlLXJlbW90ZQ%3D%3D?line=4'>5</a>\u001b[0m a\n",
      "File \u001b[0;32m~/NovelDDI/baselines/deepDDI/utils.py:96\u001b[0m, in \u001b[0;36mstructured_negative_sampling_binary\u001b[0;34m(edge_index, valid_indices, ground_truth_edge_index, contains_neg_self_loops, probs)\u001b[0m\n\u001b[1;32m     93\u001b[0m \u001b[39massert\u001b[39;00m is_undirected(ground_truth_edge_index) \u001b[39mif\u001b[39;00m ground_truth_edge_index \u001b[39mis\u001b[39;00m \u001b[39mnot\u001b[39;00m \u001b[39mNone\u001b[39;00m \u001b[39melse\u001b[39;00m \u001b[39mTrue\u001b[39;00m\n\u001b[1;32m     95\u001b[0m \u001b[39m# get number of nodes and valid indices for sampling\u001b[39;00m\n\u001b[0;32m---> 96\u001b[0m num_nodes \u001b[39m=\u001b[39m \u001b[39mint\u001b[39m(ground_truth_edge_index\u001b[39m.\u001b[39;49mmax()) \u001b[39m+\u001b[39m \u001b[39m1\u001b[39m\n\u001b[1;32m     97\u001b[0m valid_indices \u001b[39m=\u001b[39m valid_indices\u001b[39m.\u001b[39mnumpy() \u001b[39mif\u001b[39;00m valid_indices \u001b[39mis\u001b[39;00m \u001b[39mnot\u001b[39;00m \u001b[39mNone\u001b[39;00m \u001b[39melse\u001b[39;00m torch\u001b[39m.\u001b[39munique(edge_index, \u001b[39msorted\u001b[39m\u001b[39m=\u001b[39m\u001b[39mTrue\u001b[39;00m)\u001b[39m.\u001b[39mnumpy()\n\u001b[1;32m     99\u001b[0m row, col \u001b[39m=\u001b[39m edge_index\u001b[39m.\u001b[39mcpu()\n",
      "\u001b[0;31mAttributeError\u001b[0m: 'NoneType' object has no attribute 'max'"
     ]
    }
   ],
   "source": [
    "from utils import structured_negative_sampling_binary\n",
    "\n",
    "valid_indices = torch.unique(pos_ddis)\n",
    "a = structured_negative_sampling_binary(pos_ddis,valid_indices)\n",
    "a"
   ]
  },
  {
   "cell_type": "code",
   "execution_count": 4,
   "id": "71f110a0",
   "metadata": {},
   "outputs": [
    {
     "ename": "TypeError",
     "evalue": "structured_negative_sampling_binary() missing 1 required positional argument: 'valid_indices'",
     "output_type": "error",
     "traceback": [
      "\u001b[0;31m---------------------------------------------------------------------------\u001b[0m",
      "\u001b[0;31mTypeError\u001b[0m                                 Traceback (most recent call last)",
      "\u001b[1;32m/home/nih492/NovelDDI/baselines/deepDDI/drugcentric_preprocess.ipynb Cell 26\u001b[0m in \u001b[0;36m<cell line: 8>\u001b[0;34m()\u001b[0m\n\u001b[1;32m      <a href='vscode-notebook-cell://127.0.0.1:51254/home/nih492/NovelDDI/baselines/deepDDI/drugcentric_preprocess.ipynb#X26sdnNjb2RlLXJlbW90ZQ%3D%3D?line=4'>5</a>\u001b[0m np\u001b[39m.\u001b[39mrandom\u001b[39m.\u001b[39mseed(\u001b[39m50\u001b[39m)\n\u001b[1;32m      <a href='vscode-notebook-cell://127.0.0.1:51254/home/nih492/NovelDDI/baselines/deepDDI/drugcentric_preprocess.ipynb#X26sdnNjb2RlLXJlbW90ZQ%3D%3D?line=5'>6</a>\u001b[0m pos_ddis \u001b[39m=\u001b[39m train_edgelist\u001b[39m.\u001b[39mT\n\u001b[0;32m----> <a href='vscode-notebook-cell://127.0.0.1:51254/home/nih492/NovelDDI/baselines/deepDDI/drugcentric_preprocess.ipynb#X26sdnNjb2RlLXJlbW90ZQ%3D%3D?line=7'>8</a>\u001b[0m neg_heads, neg_tails, negatives \u001b[39m=\u001b[39m structured_negative_sampling_binary(pos_ddis) \u001b[39m# because we set this to be undirected, we only need heads + negatives\u001b[39;00m\n\u001b[1;32m      <a href='vscode-notebook-cell://127.0.0.1:51254/home/nih492/NovelDDI/baselines/deepDDI/drugcentric_preprocess.ipynb#X26sdnNjb2RlLXJlbW90ZQ%3D%3D?line=8'>9</a>\u001b[0m neg_samp_heads \u001b[39m=\u001b[39m torch\u001b[39m.\u001b[39mcat([heads\u001b[39m.\u001b[39mview(\u001b[39m1\u001b[39m, \u001b[39m-\u001b[39m\u001b[39m1\u001b[39m), negatives\u001b[39m.\u001b[39mview(\u001b[39m1\u001b[39m, \u001b[39m-\u001b[39m\u001b[39m1\u001b[39m)], dim \u001b[39m=\u001b[39m \u001b[39m0\u001b[39m)\n\u001b[1;32m     <a href='vscode-notebook-cell://127.0.0.1:51254/home/nih492/NovelDDI/baselines/deepDDI/drugcentric_preprocess.ipynb#X26sdnNjb2RlLXJlbW90ZQ%3D%3D?line=9'>10</a>\u001b[0m neg_samp_tails \u001b[39m=\u001b[39m torch\u001b[39m.\u001b[39mcat([negatives\u001b[39m.\u001b[39mview(\u001b[39m1\u001b[39m, \u001b[39m-\u001b[39m\u001b[39m1\u001b[39m), neg_tails\u001b[39m.\u001b[39mview(\u001b[39m1\u001b[39m, \u001b[39m-\u001b[39m\u001b[39m1\u001b[39m)], dim \u001b[39m=\u001b[39m \u001b[39m0\u001b[39m)\n",
      "\u001b[0;31mTypeError\u001b[0m: structured_negative_sampling_binary() missing 1 required positional argument: 'valid_indices'"
     ]
    }
   ],
   "source": [
    "from torch_geometric.utils import is_undirected, to_undirected, to_dense_adj, k_hop_subgraph, coalesce #, structured_negative_sampling\n",
    "\n",
    "assert is_undirected(train_edgelist.T)\n",
    "\n",
    "np.random.seed(50)\n",
    "pos_ddis = train_edgelist.T\n",
    "\n",
    "neg_heads, neg_tails, negatives = structured_negative_sampling_binary(pos_ddis) # because we set this to be undirected, we only need heads + negatives\n",
    "neg_samp_heads = torch.cat([heads.view(1, -1), negatives.view(1, -1)], dim = 0)\n",
    "neg_samp_tails = torch.cat([negatives.view(1, -1), neg_tails.view(1, -1)], dim = 0)\n",
    "\n",
    "head_idx = torch.tensor(np.random.choice(len(train_edgelist), int(len(train_edgelist) / 2), replace = False))\n",
    "neg1 = neg_samp_heads.T[head_idx].T\n",
    "tail_idx = torch.tensor(np.random.choice(len(train_edgelist), int(len(train_edgelist) / 2), replace = False))\n",
    "neg2 = neg_samp_tails.T[tail_idx].T\n",
    "neg_samps = torch.cat([neg1, neg2], dim = 1)\n",
    "\n",
    "lookup = pca_lookup.T\n",
    "head_pos = lookup[pos_ddis[0]].values.T \n",
    "tail_pos = lookup[pos_ddis[1]].values.T\n",
    "batch_pos = np.concatenate([head_pos, tail_pos], axis = 1)\n",
    "batch_pos = torch.tensor(batch_pos)\n",
    "pos_labels = torch.ones(batch_pos.shape[0]) \n",
    "\n",
    "head_neg = lookup[neg_samps[0]].values.T\n",
    "tail_neg = lookup[neg_samps[1]].values.T\n",
    "batch_neg = np.concatenate([head_neg, tail_neg], axis = 1)\n",
    "batch_neg = torch.tensor(batch_neg)\n",
    "neg_labels = torch.zeros(batch_neg.shape[0])\n",
    "\n",
    "train_ddis_struc_neg = torch.cat([batch_pos, batch_neg], dim = 0)\n",
    "train_labels_struc_neg = torch.cat([pos_labels, neg_labels], dim = 0)\n",
    "\n",
    "train_labels_struc_neg = train_labels_struc_neg.reshape(-1, 1)"
   ]
  },
  {
   "cell_type": "code",
   "execution_count": 46,
   "id": "4e808782",
   "metadata": {},
   "outputs": [],
   "source": [
    "torch.save(train_ddis_struc_neg, path_base + f'/deepDDI/train_STRUC_NEGSAMP_{NUM_BASIS_DRUGS}_seed{SEED}.pt')\n",
    "torch.save(train_labels_struc_neg, path_base + f'/deepDDI/train_STRUC_NEGSAMP_labels_{NUM_BASIS_DRUGS}_seed{SEED}.pt')"
   ]
  },
  {
   "cell_type": "code",
   "execution_count": 47,
   "id": "7a2f4bb8",
   "metadata": {},
   "outputs": [
    {
     "data": {
      "text/plain": [
       "torch.Size([2465252, 1])"
      ]
     },
     "execution_count": 47,
     "metadata": {},
     "output_type": "execute_result"
    }
   ],
   "source": [
    "train_labels_struc_neg.shape"
   ]
  },
  {
   "cell_type": "markdown",
   "id": "88311a83-0f03-41ae-beca-fadce9783960",
   "metadata": {},
   "source": [
    "# Misc"
   ]
  },
  {
   "cell_type": "code",
   "execution_count": 25,
   "id": "f1023e53-5a2e-4471-bddc-75f59002922d",
   "metadata": {},
   "outputs": [
    {
     "data": {
      "text/plain": [
       "<matplotlib.image.AxesImage at 0x7f15b122c9d0>"
      ]
     },
     "execution_count": 25,
     "metadata": {},
     "output_type": "execute_result"
    },
    {
     "data": {
      "image/png": "[encoded data removed]",
      "text/plain": [
       "<Figure size 288x288 with 1 Axes>"
      ]
     },
     "metadata": {
      "needs_background": "light"
     },
     "output_type": "display_data"
    }
   ],
   "source": [
    "import matplotlib.pyplot as plt\n",
    "\n",
    "\n",
    "train_edgelist\n",
    "\n",
    "df = pd.crosstab(train_edgelist.index_x, train_edgelist.index_y)\n",
    "\n",
    "idx = df.columns.union(df.index)\n",
    "df2 = df.reindex(index = idx, columns=idx, fill_value=0)\n",
    "df2\n",
    "\n",
    "plt.matshow(df2)"
   ]
  },
  {
   "cell_type": "code",
   "execution_count": null,
   "id": "0c7fd15b-27e4-41ae-b915-698318222a41",
   "metadata": {},
   "outputs": [],
   "source": []
  },
  {
   "cell_type": "code",
   "execution_count": null,
   "id": "f34be001-65db-4b63-8a08-22e43bf9eac3",
   "metadata": {},
   "outputs": [],
   "source": [
    "\n"
   ]
  },
  {
   "cell_type": "code",
   "execution_count": null,
   "id": "28a8eba1-4655-488e-bb47-c59f85a73dcd",
   "metadata": {},
   "outputs": [],
   "source": []
  }
 ],
 "metadata": {
  "kernelspec": {
   "display_name": "Python 3.8.13 ('pygpu_nick')",
   "language": "python",
   "name": "python3"
  },
  "language_info": {
   "codemirror_mode": {
    "name": "ipython",
    "version": 3
   },
   "file_extension": ".py",
   "mimetype": "text/x-python",
   "name": "python",
   "nbconvert_exporter": "python",
   "pygments_lexer": "ipython3",
   "version": "3.8.13"
  },
  "vscode": {
   "interpreter": {
    "hash": "e97a27ba4cbc163212f54a86cf00f8c9e1e60825a02b37fa03a1da346ec81faf"
   }
  }
 },
 "nbformat": 4,
 "nbformat_minor": 5
}
